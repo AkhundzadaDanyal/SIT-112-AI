{
 "cells": [
  {
   "cell_type": "markdown",
   "metadata": {
    "tags": []
   },
   "source": [
    "# **Task P8**\n",
    "## Analyzing Twitter Data using NLP\n",
    "\n",
    "##### This task focuses on analyzing user replies to Covid-19 news published on the social media platform X (formerly known as Twitter) using some basic natural language processing (NLP) techniques. \n",
    "\n",
    "##### The task uses the `replies.csv` dataset, which contains the information about user replies to the Covid-19 news posted on Twitter. The columns capture the content related to the individual replies such as `text` (the actual text content of the reply), `id` (a unique ID for the reply itself), `conversation_id` (linking the reply to a specific conversation thread), `in_reply_to_user_id` (identifying the target user of the reply), and `possibly_sensitive` (indicating if the content may be sensitive). Additional informaiton include `author_id` (the unique ID of the reply's author), `author_followers` (the count of the author's followers),`author_tweets` (total tweets made by the author), and `author_location` (the geographical location of the author). Moreover, engagement metrics are tracked through columns like `retweets`, `replies`, `likes`, and `quote_count`. Time and location metadata are captured by `created_at` and `geo`, respectively, with `account` specifying the account name of the news publishers (e.g., BBC).\n",
    "\n",
    "<img src=\"pic.png\" alt=\"SIT112 News Tweets!\" width=\"1800\" height=\"200\">"
   ]
  },
  {
   "cell_type": "markdown",
   "metadata": {
    "tags": []
   },
   "source": [
    "### A. Instructions\n",
    "\n",
    "1. `To complete this task, you must first study the solution notebook; then try to do it yourself. You can copy the solutions into ChatGPT and ask for clarification or more examples.`\n",
    "2. Complete and submit the TaskCompletionReport form in PDF format using Ontrack. You can do this by the end of Week 12, but feedback will only be provided for submissions received by 11 AM of the due date.\n",
    "3. Do **not** include the solution (yours or the one provided to you) in your submission.\n",
    "4. The workshops are the primary venue for you to seek help if you need any clarification/assitance. The tutors are there to help you complete and submit the tasks. Please avoid emailing your code or screenshots to the tutors outside workshop hours. \n",
    "5. Consider using online resources such as ChatGPT to strenghten your undertanding of the task. \n",
    "\n",
    "Good luck :)"
   ]
  },
  {
   "cell_type": "code",
   "execution_count": 11,
   "metadata": {
    "tags": []
   },
   "outputs": [
    {
     "name": "stdout",
     "output_type": "stream",
     "text": [
      "All required modules are installed.\n"
     ]
    }
   ],
   "source": [
    "import importlib\n",
    "import subprocess\n",
    "\n",
    "# The following lines should install all libraries you need - you can install the libraries manually if the script did not work \n",
    "required_modules = ['pandas', 'seaborn', 'matplotlib', 'numpy', 'datetime', 'sklearn', 'nltk', 'textblob', 'textblob', 'collections', 'numpy', 'warnings']\n",
    "for module in required_modules:\n",
    "    try:\n",
    "        importlib.import_module(module)\n",
    "    except ImportError:\n",
    "        print(f\"{module} module not found. Installing...\")\n",
    "        subprocess.check_call(['pip', 'install', module])\n",
    "\n",
    "print(\"All required modules are installed.\")\n",
    "\n",
    "import pandas as pd\n",
    "import numpy as np\n",
    "import matplotlib.pyplot as plt\n",
    "import seaborn as sns\n",
    "from sklearn.feature_extraction.text import CountVectorizer, TfidfVectorizer\n",
    "from sklearn.decomposition import LatentDirichletAllocation\n",
    "from textblob import TextBlob\n",
    "import datetime as dt\n",
    "from collections import Counter\n",
    "import re\n",
    "import warnings\n",
    "import nltk\n",
    "from nltk.corpus import stopwords\n",
    "\n",
    "warnings.filterwarnings('ignore')\n",
    "# Set the maximum number of columns and rows displayed\n",
    "pd.set_option('display.max_columns', None)  # None means no limit\n",
    "pd.set_option('display.max_rows', None)  # None means no limit\n",
    "# You can also adjust the width of each column and the maximum column width\n",
    "pd.set_option('display.max_colwidth', None)  # None means no truncation on column width"
   ]
  },
  {
   "cell_type": "markdown",
   "metadata": {},
   "source": [
    "### B. Write Python code that performs (answers) the following operations (questions) "
   ]
  },
  {
   "cell_type": "markdown",
   "metadata": {},
   "source": [
    "##### 1. Read the data from the .csv file into a DataFrame and display the first five rows."
   ]
  },
  {
   "cell_type": "code",
   "execution_count": 12,
   "metadata": {
    "tags": []
   },
   "outputs": [
    {
     "data": {
      "text/html": [
       "<div>\n",
       "<style scoped>\n",
       "    .dataframe tbody tr th:only-of-type {\n",
       "        vertical-align: middle;\n",
       "    }\n",
       "\n",
       "    .dataframe tbody tr th {\n",
       "        vertical-align: top;\n",
       "    }\n",
       "\n",
       "    .dataframe thead th {\n",
       "        text-align: right;\n",
       "    }\n",
       "</style>\n",
       "<table border=\"1\" class=\"dataframe\">\n",
       "  <thead>\n",
       "    <tr style=\"text-align: right;\">\n",
       "      <th></th>\n",
       "      <th>author_id</th>\n",
       "      <th>author_followers</th>\n",
       "      <th>author_tweets</th>\n",
       "      <th>author_location</th>\n",
       "      <th>id</th>\n",
       "      <th>conversation_id</th>\n",
       "      <th>source</th>\n",
       "      <th>in_reply_to_user_id</th>\n",
       "      <th>possibly_sensitive</th>\n",
       "      <th>text</th>\n",
       "      <th>created_at</th>\n",
       "      <th>geo</th>\n",
       "      <th>retweets</th>\n",
       "      <th>replies</th>\n",
       "      <th>likes</th>\n",
       "      <th>quote_count</th>\n",
       "      <th>account</th>\n",
       "    </tr>\n",
       "  </thead>\n",
       "  <tbody>\n",
       "    <tr>\n",
       "      <th>0</th>\n",
       "      <td>2</td>\n",
       "      <td>1</td>\n",
       "      <td>3827</td>\n",
       "      <td>NaN</td>\n",
       "      <td>1.480000e+18</td>\n",
       "      <td>1.480000e+18</td>\n",
       "      <td>NaN</td>\n",
       "      <td>2.604917e+07</td>\n",
       "      <td>False</td>\n",
       "      <td>@RobinLaRoca @guardian I don't want a payment.\\nI want the unvaxxed to pay every last red cent for public  hospital treatment rendered to them</td>\n",
       "      <td>2022-01-01T03:31:03Z</td>\n",
       "      <td>NaN</td>\n",
       "      <td>0</td>\n",
       "      <td>2</td>\n",
       "      <td>0</td>\n",
       "      <td>0</td>\n",
       "      <td>guardian</td>\n",
       "    </tr>\n",
       "    <tr>\n",
       "      <th>1</th>\n",
       "      <td>3</td>\n",
       "      <td>939</td>\n",
       "      <td>49244</td>\n",
       "      <td>Sheffield</td>\n",
       "      <td>1.480000e+18</td>\n",
       "      <td>1.480000e+18</td>\n",
       "      <td>NaN</td>\n",
       "      <td>8.781841e+07</td>\n",
       "      <td>False</td>\n",
       "      <td>@guardian I'm fine with that as long as they backdate the payments for everyone.</td>\n",
       "      <td>2022-01-01T00:42:39Z</td>\n",
       "      <td>{'place_id': '07e9c7d1954fff64'}</td>\n",
       "      <td>0</td>\n",
       "      <td>1</td>\n",
       "      <td>0</td>\n",
       "      <td>0</td>\n",
       "      <td>guardian</td>\n",
       "    </tr>\n",
       "    <tr>\n",
       "      <th>2</th>\n",
       "      <td>4</td>\n",
       "      <td>318</td>\n",
       "      <td>4519</td>\n",
       "      <td>Santiago, Chile</td>\n",
       "      <td>1.480000e+18</td>\n",
       "      <td>1.480000e+18</td>\n",
       "      <td>NaN</td>\n",
       "      <td>8.781841e+07</td>\n",
       "      <td>False</td>\n",
       "      <td>@guardian Yes, for big pharma</td>\n",
       "      <td>2022-01-01T00:37:59Z</td>\n",
       "      <td>NaN</td>\n",
       "      <td>1</td>\n",
       "      <td>0</td>\n",
       "      <td>1</td>\n",
       "      <td>0</td>\n",
       "      <td>guardian</td>\n",
       "    </tr>\n",
       "    <tr>\n",
       "      <th>3</th>\n",
       "      <td>5</td>\n",
       "      <td>2812</td>\n",
       "      <td>320641</td>\n",
       "      <td>Earth</td>\n",
       "      <td>1.480000e+18</td>\n",
       "      <td>1.480000e+18</td>\n",
       "      <td>NaN</td>\n",
       "      <td>1.367531e+06</td>\n",
       "      <td>False</td>\n",
       "      <td>@FoxNews a vaccine most Missourians won’t take</td>\n",
       "      <td>2022-01-01T07:39:51Z</td>\n",
       "      <td>NaN</td>\n",
       "      <td>0</td>\n",
       "      <td>0</td>\n",
       "      <td>5</td>\n",
       "      <td>0</td>\n",
       "      <td>FoxNews</td>\n",
       "    </tr>\n",
       "    <tr>\n",
       "      <th>4</th>\n",
       "      <td>6</td>\n",
       "      <td>350</td>\n",
       "      <td>1581</td>\n",
       "      <td>Conway, AR</td>\n",
       "      <td>1.480000e+18</td>\n",
       "      <td>1.480000e+18</td>\n",
       "      <td>NaN</td>\n",
       "      <td>1.190000e+18</td>\n",
       "      <td>False</td>\n",
       "      <td>@nikki6ixx1 @FoxNews I currently have Covid, im non vaccinated and feeling perfectly fine. Please explain to me how am I going to die because of this virus??</td>\n",
       "      <td>2022-01-01T13:30:39Z</td>\n",
       "      <td>NaN</td>\n",
       "      <td>0</td>\n",
       "      <td>2</td>\n",
       "      <td>0</td>\n",
       "      <td>0</td>\n",
       "      <td>FoxNews</td>\n",
       "    </tr>\n",
       "  </tbody>\n",
       "</table>\n",
       "</div>"
      ],
      "text/plain": [
       "   author_id  author_followers  author_tweets  author_location            id  \\\n",
       "0          2                 1           3827              NaN  1.480000e+18   \n",
       "1          3               939          49244        Sheffield  1.480000e+18   \n",
       "2          4               318           4519  Santiago, Chile  1.480000e+18   \n",
       "3          5              2812         320641            Earth  1.480000e+18   \n",
       "4          6               350           1581       Conway, AR  1.480000e+18   \n",
       "\n",
       "   conversation_id  source  in_reply_to_user_id  possibly_sensitive  \\\n",
       "0     1.480000e+18     NaN         2.604917e+07               False   \n",
       "1     1.480000e+18     NaN         8.781841e+07               False   \n",
       "2     1.480000e+18     NaN         8.781841e+07               False   \n",
       "3     1.480000e+18     NaN         1.367531e+06               False   \n",
       "4     1.480000e+18     NaN         1.190000e+18               False   \n",
       "\n",
       "                                                                                                                                                            text  \\\n",
       "0                 @RobinLaRoca @guardian I don't want a payment.\\nI want the unvaxxed to pay every last red cent for public  hospital treatment rendered to them   \n",
       "1                                                                               @guardian I'm fine with that as long as they backdate the payments for everyone.   \n",
       "2                                                                                                                                  @guardian Yes, for big pharma   \n",
       "3                                                                                                                 @FoxNews a vaccine most Missourians won’t take   \n",
       "4  @nikki6ixx1 @FoxNews I currently have Covid, im non vaccinated and feeling perfectly fine. Please explain to me how am I going to die because of this virus??   \n",
       "\n",
       "             created_at                               geo  retweets  replies  \\\n",
       "0  2022-01-01T03:31:03Z                               NaN         0        2   \n",
       "1  2022-01-01T00:42:39Z  {'place_id': '07e9c7d1954fff64'}         0        1   \n",
       "2  2022-01-01T00:37:59Z                               NaN         1        0   \n",
       "3  2022-01-01T07:39:51Z                               NaN         0        0   \n",
       "4  2022-01-01T13:30:39Z                               NaN         0        2   \n",
       "\n",
       "   likes  quote_count   account  \n",
       "0      0            0  guardian  \n",
       "1      0            0  guardian  \n",
       "2      1            0  guardian  \n",
       "3      5            0   FoxNews  \n",
       "4      0            0   FoxNews  "
      ]
     },
     "execution_count": 12,
     "metadata": {},
     "output_type": "execute_result"
    }
   ],
   "source": [
    "# write your code here\n",
    "\n",
    "df = pd.read_csv('replies.csv')\n",
    "df.head()"
   ]
  },
  {
   "cell_type": "markdown",
   "metadata": {
    "tags": []
   },
   "source": [
    "##### 2. Clean the reply texts as listed below. You can use ChatGPT to generate regular expressions for these cleaning operations. \n",
    "\n",
    "- Remove @ Mentions: Strip out any @ mentions in the reply texts, which typically refer to other users and are not relevant for general analysis.\n",
    "- Remove Hashtags: Eliminate the '#' symbol but keep the subsequent text, which might be relevant for understanding the topic of the reply.\n",
    "- Remove Retweet Indicators: Remove any 'RT' symbols used to indicate retweets, as they do not contribute to text content.\n",
    "- Remove URLs: Strip out any web links (URLs), which are common in reply texts but irrelevant to text analysis.\n",
    "- Remove Punctuation: Eliminate all punctuation marks to reduce variability in the reply texts.\n",
    "- Convert to Lowercase: Standardize all reply texts to lowercase to ensure uniformity in the analysis."
   ]
  },
  {
   "cell_type": "code",
   "execution_count": 13,
   "metadata": {
    "tags": []
   },
   "outputs": [],
   "source": [
    "import re  # Importing the regular expression module\n",
    "\n",
    "# This function cleans the text by removing unwanted characters and formatting\n",
    "def clean_text(tweet):\n",
    "    try:\n",
    "        # Remove @ mentions (usernames)\n",
    "        tweet = re.sub(r'@[A-Za-z0-9]+', '', tweet)\n",
    "        # Remove hashtag symbols but keep the text after the hash for context\n",
    "        tweet = re.sub(r'#', '', tweet)\n",
    "        # Remove 'RT' text indicating a retweet\n",
    "        tweet = re.sub(r'RT[\\s]+', '', tweet)\n",
    "        # Remove hyperlinks\n",
    "        tweet = re.sub(r'https?://[^\\s<>\"]+|www\\.[^\\s<>\"]+', \"\", tweet)\n",
    "        # Remove all types of punctuation and special characters\n",
    "        tweet = re.sub(r'[^\\w\\s]', '', tweet)\n",
    "        # Convert all characters in the text to lowercase to standardize for further analysis\n",
    "        tweet = tweet.lower()\n",
    "    except Exception as e:\n",
    "        # Print the error if any occurs during text cleaning\n",
    "        print(e)\n",
    "    return tweet\n",
    "\n",
    "# Clean the text in the DataFrame\n",
    "df['cleaned_text'] = df['text'].apply(clean_text)\n"
   ]
  },
  {
   "cell_type": "markdown",
   "metadata": {},
   "source": [
    "##### 3. Remove from the reply texts the stopwords and the custom list of words that are unwanted:\n",
    "\n",
    "- Utilize a list of predefined stopwords from NLTK tailored for the English language (from nltk.corpus import stopwords).\n",
    "- Define a custom list of words to be excluded that are specifically irrelevant or overused in the reply texts.\n",
    "- Remove stopwords and custom words: filter out these words from the (reply) text to focus on more meaningful words for analysis."
   ]
  },
  {
   "cell_type": "code",
   "execution_count": 14,
   "metadata": {
    "tags": []
   },
   "outputs": [],
   "source": [
    "from nltk.corpus import stopwords  # Importing NLTK's stopwords corpus\n",
    "\n",
    "# This function removes common stopwords and a predefined list of unwanted words from the text\n",
    "def remove_unwanted_words(text):\n",
    "    # Define a list of words specific to the context that we want to exclude from analysis\n",
    "    excluded_words = ['covid', 'covid19', 'covid-19', 'u', 'say', 'said', 'amid', 'weel', 'oh', 'new', 'BCWorld', \n",
    "                      'will', 'still', 'someone', 'many', 'now', 'going', 'everyone', 'use', 'let', 'become', 'thing', \n",
    "                      'around', 'way', 'know', 'NUM', 'dont']\n",
    "    # Get the list of all English stopwords\n",
    "    stop_words = stopwords.words('english')\n",
    "    # Combine both lists and ensure all words are considered in lowercase\n",
    "    combined_words = set(stop_words + excluded_words)\n",
    "    # Reconstruct the text by excluding stopwords and additional excluded words\n",
    "    text_cleaned = ' '.join(word for word in text.split() if word.lower() not in combined_words)\n",
    "    return text_cleaned\n",
    "\n",
    "# Remove unwanted words from the text in the DataFrame\n",
    "df['cleaned_text'] = df['text'].apply(remove_unwanted_words)\n"
   ]
  },
  {
   "cell_type": "markdown",
   "metadata": {},
   "source": [
    "##### 4. What are the 5 most frequent words in the replies per account (news publisher, e.g., BBC)?"
   ]
  },
  {
   "cell_type": "code",
   "execution_count": 15,
   "metadata": {
    "tags": []
   },
   "outputs": [
    {
     "data": {
      "text/plain": [
       "account\n",
       "9NewsAUS            [(9newsaus, 447), (the, 327), (to, 221), (you, 177), (t, 158)]\n",
       "BBCWorld           [(bbcworld, 1143), (the, 796), (to, 647), (you, 412), (a, 400)]\n",
       "CBC                            [(the, 10), (cbc, 9), (cbcnews, 6), (i, 6), (a, 4)]\n",
       "CNN                 [(cnn, 3221), (the, 2210), (to, 1425), (you, 1137), (t, 1092)]\n",
       "FoxNews         [(foxnews, 5650), (the, 3612), (to, 2489), (you, 2086), (a, 1916)]\n",
       "MSNBC                [(msnbc, 569), (the, 361), (to, 240), (you, 217), (and, 195)]\n",
       "SkyNews               [(skynews, 1276), (the, 862), (to, 559), (a, 449), (t, 426)]\n",
       "guardian            [(guardian, 426), (the, 330), (to, 210), (a, 162), (and, 156)]\n",
       "timesofindia        [(timesofindia, 127), (the, 115), (to, 73), (of, 49), (t, 47)]\n",
       "Name: words, dtype: object"
      ]
     },
     "metadata": {},
     "output_type": "display_data"
    }
   ],
   "source": [
    "import re  # Importing the regular expression module\n",
    "from collections import Counter  # Importing the Counter class for counting occurrences\n",
    "\n",
    "# Define a function to extract words from text using regular expressions\n",
    "def extract_words(text):\n",
    "    return re.findall(r'\\b\\w+\\b', text.lower())  # Find all word-like substrings in lowercase text\n",
    "\n",
    "# Apply the extract_words function to each text entry in the 'text' column of the dataframe 'df'\n",
    "df['words'] = df['text'].apply(extract_words)\n",
    "\n",
    "# Group the DataFrame by the 'account' column and concatenate the lists of words\n",
    "grouped_data = df.groupby('account')['words'].sum()\n",
    "\n",
    "# Define a function to determine the top 5 most common words in a list of words\n",
    "def get_top_words(words):\n",
    "    word_counts = Counter(words)\n",
    "    return word_counts.most_common(5)\n",
    "\n",
    "# Apply the get_top_words function to each group of words aggregated by publisher\n",
    "top_words_per_publisher = grouped_data.apply(get_top_words)\n",
    "\n",
    "# Display the top words per publisher results\n",
    "display(top_words_per_publisher)\n"
   ]
  },
  {
   "cell_type": "markdown",
   "metadata": {
    "tags": []
   },
   "source": [
    "##### 5. Classify the sentiment of each reply as positive, negative, or neutral based on the `text` column. Then visualize the ratio of the replies with positive, negative, or neutral sentiments per news publisher (account). \n"
   ]
  },
  {
   "cell_type": "code",
   "execution_count": 18,
   "metadata": {
    "tags": []
   },
   "outputs": [
    {
     "data": {
      "image/png": "[encoded data removed]",
      "text/plain": [
       "<Figure size 1200x800 with 1 Axes>"
      ]
     },
     "metadata": {},
     "output_type": "display_data"
    }
   ],
   "source": [
    "from textblob import TextBlob  # Importing TextBlob for sentiment analysis\n",
    "import matplotlib.pyplot as plt  # Importing matplotlib for visualization\n",
    "\n",
    "# Define a function to detect the sentiment of a given text\n",
    "def detect_sentiment(text):\n",
    "    # Analyze the sentiment of the text using TextBlob\n",
    "    testimonial = TextBlob(text)\n",
    "    # Determine sentiment based on polarity\n",
    "    polarity = testimonial.sentiment.polarity\n",
    "    if polarity > 0:\n",
    "        return 'Positive'\n",
    "    elif polarity == 0:\n",
    "        return 'Neutral'\n",
    "    else:\n",
    "        return 'Negative'\n",
    "\n",
    "# Apply the 'detect_sentiment' function to each text entry in the 'text' column of the DataFrame\n",
    "# This adds a new column to the DataFrame with the detected sentiment for each text entry\n",
    "df['sentiment'] = df['text'].apply(detect_sentiment)\n",
    "\n",
    "# Group the data by the 'account' column and calculate the percentage of each sentiment\n",
    "account_sentiments = df.groupby('account')['sentiment'].value_counts(normalize=True).unstack(fill_value=0) * 100\n",
    "\n",
    "# Plotting\n",
    "fig, ax = plt.subplots(figsize=(12, 8))\n",
    "# Create a stacked bar plot to show the proportion of each sentiment by account\n",
    "account_sentiments.plot(kind='bar', stacked=True, color=['#66c2a5', '#8da0cb', '#fc8d62'], ax=ax)  # Changed color\n",
    "plt.title('Sentiment Distribution by News Publisher')\n",
    "plt.xlabel('News Publisher')\n",
    "plt.ylabel('Sentiment Percentage')\n",
    "plt.legend(title='Sentiment', bbox_to_anchor=(1.05, 1), loc='upper left')  # Placing legend outside the plot\n",
    "plt.tight_layout()\n",
    "plt.show()\n"
   ]
  },
  {
   "cell_type": "markdown",
   "metadata": {},
   "source": [
    "### C. Learn more\n",
    "* https://www.sciencedirect.com/science/article/pii/S2468696423000125\n",
    "* https://youtu.be/toM78JGJ_4s?si=8ESJ-yOV_H1iX74r\n",
    "* https://youtu.be/QpzMWQvxXWk?si=CPvNgnZo3jsW4HL5\n",
    "* https://youtu.be/o7OqhzMcDfs?si=9iFeYZq4TlVCMMRb"
   ]
  }
 ],
 "metadata": {
  "kernelspec": {
   "display_name": "Python 3 (ipykernel)",
   "language": "python",
   "name": "python3"
  },
  "language_info": {
   "codemirror_mode": {
    "name": "ipython",
    "version": 3
   },
   "file_extension": ".py",
   "mimetype": "text/x-python",
   "name": "python",
   "nbconvert_exporter": "python",
   "pygments_lexer": "ipython3",
   "version": "3.11.7"
  }
 },
 "nbformat": 4,
 "nbformat_minor": 4
}
